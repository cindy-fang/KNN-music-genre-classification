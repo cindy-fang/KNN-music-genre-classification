{
 "cells": [
  {
   "cell_type": "markdown",
   "id": "0a7053e1",
   "metadata": {},
   "source": [
    "# GTZAN dataset music genre classification - K nearest neighours "
   ]
  },
  {
   "cell_type": "markdown",
   "id": "e0c5d73b",
   "metadata": {},
   "source": [
    "# Data Preprocessing"
   ]
  },
  {
   "cell_type": "markdown",
   "id": "db96fb7b",
   "metadata": {},
   "source": [
    "Import libraries, standardize and split data into train, test, and valid datasets. "
   ]
  },
  {
   "cell_type": "code",
   "execution_count": 396,
   "id": "90fddc82",
   "metadata": {},
   "outputs": [],
   "source": [
    "import pandas as pd\n",
    "import numpy as np\n",
    "import matplotlib.pyplot as plt\n",
    "\n",
    "from sklearn.preprocessing import MinMaxScaler\n",
    "from sklearn.preprocessing import OneHotEncoder\n",
    "from sklearn.metrics import accuracy_score\n",
    "from sklearn.model_selection import train_test_split\n",
    "from sklearn.neighbors import KNeighborsClassifier\n",
    "from sklearn import preprocessing\n",
    "from sklearn.preprocessing import StandardScaler\n",
    "from sklearn.model_selection import cross_val_score\n",
    "from sklearn.model_selection import GridSearchCV\n",
    "\n",
    "%matplotlib inline"
   ]
  },
  {
   "cell_type": "code",
   "execution_count": 397,
   "id": "456d1e0b",
   "metadata": {
    "scrolled": false
   },
   "outputs": [
    {
     "data": {
      "text/html": [
       "<div>\n",
       "<style scoped>\n",
       "    .dataframe tbody tr th:only-of-type {\n",
       "        vertical-align: middle;\n",
       "    }\n",
       "\n",
       "    .dataframe tbody tr th {\n",
       "        vertical-align: top;\n",
       "    }\n",
       "\n",
       "    .dataframe thead th {\n",
       "        text-align: right;\n",
       "    }\n",
       "</style>\n",
       "<table border=\"1\" class=\"dataframe\">\n",
       "  <thead>\n",
       "    <tr style=\"text-align: right;\">\n",
       "      <th></th>\n",
       "      <th>filename</th>\n",
       "      <th>length</th>\n",
       "      <th>chroma_stft_mean</th>\n",
       "      <th>chroma_stft_var</th>\n",
       "      <th>rms_mean</th>\n",
       "      <th>rms_var</th>\n",
       "      <th>spectral_centroid_mean</th>\n",
       "      <th>spectral_centroid_var</th>\n",
       "      <th>spectral_bandwidth_mean</th>\n",
       "      <th>spectral_bandwidth_var</th>\n",
       "      <th>...</th>\n",
       "      <th>mfcc16_var</th>\n",
       "      <th>mfcc17_mean</th>\n",
       "      <th>mfcc17_var</th>\n",
       "      <th>mfcc18_mean</th>\n",
       "      <th>mfcc18_var</th>\n",
       "      <th>mfcc19_mean</th>\n",
       "      <th>mfcc19_var</th>\n",
       "      <th>mfcc20_mean</th>\n",
       "      <th>mfcc20_var</th>\n",
       "      <th>label</th>\n",
       "    </tr>\n",
       "  </thead>\n",
       "  <tbody>\n",
       "    <tr>\n",
       "      <th>0</th>\n",
       "      <td>blues.00000.0.wav</td>\n",
       "      <td>66149</td>\n",
       "      <td>0.335406</td>\n",
       "      <td>0.091048</td>\n",
       "      <td>0.130405</td>\n",
       "      <td>0.003521</td>\n",
       "      <td>1773.065032</td>\n",
       "      <td>167541.630869</td>\n",
       "      <td>1972.744388</td>\n",
       "      <td>117335.771563</td>\n",
       "      <td>...</td>\n",
       "      <td>39.687145</td>\n",
       "      <td>-3.241280</td>\n",
       "      <td>36.488243</td>\n",
       "      <td>0.722209</td>\n",
       "      <td>38.099152</td>\n",
       "      <td>-5.050335</td>\n",
       "      <td>33.618073</td>\n",
       "      <td>-0.243027</td>\n",
       "      <td>43.771767</td>\n",
       "      <td>blues</td>\n",
       "    </tr>\n",
       "    <tr>\n",
       "      <th>1</th>\n",
       "      <td>blues.00000.1.wav</td>\n",
       "      <td>66149</td>\n",
       "      <td>0.343065</td>\n",
       "      <td>0.086147</td>\n",
       "      <td>0.112699</td>\n",
       "      <td>0.001450</td>\n",
       "      <td>1816.693777</td>\n",
       "      <td>90525.690866</td>\n",
       "      <td>2010.051501</td>\n",
       "      <td>65671.875673</td>\n",
       "      <td>...</td>\n",
       "      <td>64.748276</td>\n",
       "      <td>-6.055294</td>\n",
       "      <td>40.677654</td>\n",
       "      <td>0.159015</td>\n",
       "      <td>51.264091</td>\n",
       "      <td>-2.837699</td>\n",
       "      <td>97.030830</td>\n",
       "      <td>5.784063</td>\n",
       "      <td>59.943081</td>\n",
       "      <td>blues</td>\n",
       "    </tr>\n",
       "    <tr>\n",
       "      <th>2</th>\n",
       "      <td>blues.00000.2.wav</td>\n",
       "      <td>66149</td>\n",
       "      <td>0.346815</td>\n",
       "      <td>0.092243</td>\n",
       "      <td>0.132003</td>\n",
       "      <td>0.004620</td>\n",
       "      <td>1788.539719</td>\n",
       "      <td>111407.437613</td>\n",
       "      <td>2084.565132</td>\n",
       "      <td>75124.921716</td>\n",
       "      <td>...</td>\n",
       "      <td>67.336563</td>\n",
       "      <td>-1.768610</td>\n",
       "      <td>28.348579</td>\n",
       "      <td>2.378768</td>\n",
       "      <td>45.717648</td>\n",
       "      <td>-1.938424</td>\n",
       "      <td>53.050835</td>\n",
       "      <td>2.517375</td>\n",
       "      <td>33.105122</td>\n",
       "      <td>blues</td>\n",
       "    </tr>\n",
       "    <tr>\n",
       "      <th>3</th>\n",
       "      <td>blues.00000.3.wav</td>\n",
       "      <td>66149</td>\n",
       "      <td>0.363639</td>\n",
       "      <td>0.086856</td>\n",
       "      <td>0.132565</td>\n",
       "      <td>0.002448</td>\n",
       "      <td>1655.289045</td>\n",
       "      <td>111952.284517</td>\n",
       "      <td>1960.039988</td>\n",
       "      <td>82913.639269</td>\n",
       "      <td>...</td>\n",
       "      <td>47.739452</td>\n",
       "      <td>-3.841155</td>\n",
       "      <td>28.337118</td>\n",
       "      <td>1.218588</td>\n",
       "      <td>34.770935</td>\n",
       "      <td>-3.580352</td>\n",
       "      <td>50.836224</td>\n",
       "      <td>3.630866</td>\n",
       "      <td>32.023678</td>\n",
       "      <td>blues</td>\n",
       "    </tr>\n",
       "    <tr>\n",
       "      <th>4</th>\n",
       "      <td>blues.00000.4.wav</td>\n",
       "      <td>66149</td>\n",
       "      <td>0.335579</td>\n",
       "      <td>0.088129</td>\n",
       "      <td>0.143289</td>\n",
       "      <td>0.001701</td>\n",
       "      <td>1630.656199</td>\n",
       "      <td>79667.267654</td>\n",
       "      <td>1948.503884</td>\n",
       "      <td>60204.020268</td>\n",
       "      <td>...</td>\n",
       "      <td>30.336359</td>\n",
       "      <td>0.664582</td>\n",
       "      <td>45.880913</td>\n",
       "      <td>1.689446</td>\n",
       "      <td>51.363583</td>\n",
       "      <td>-3.392489</td>\n",
       "      <td>26.738789</td>\n",
       "      <td>0.536961</td>\n",
       "      <td>29.146694</td>\n",
       "      <td>blues</td>\n",
       "    </tr>\n",
       "  </tbody>\n",
       "</table>\n",
       "<p>5 rows × 60 columns</p>\n",
       "</div>"
      ],
      "text/plain": [
       "            filename  length  chroma_stft_mean  chroma_stft_var  rms_mean  \\\n",
       "0  blues.00000.0.wav   66149          0.335406         0.091048  0.130405   \n",
       "1  blues.00000.1.wav   66149          0.343065         0.086147  0.112699   \n",
       "2  blues.00000.2.wav   66149          0.346815         0.092243  0.132003   \n",
       "3  blues.00000.3.wav   66149          0.363639         0.086856  0.132565   \n",
       "4  blues.00000.4.wav   66149          0.335579         0.088129  0.143289   \n",
       "\n",
       "    rms_var  spectral_centroid_mean  spectral_centroid_var  \\\n",
       "0  0.003521             1773.065032          167541.630869   \n",
       "1  0.001450             1816.693777           90525.690866   \n",
       "2  0.004620             1788.539719          111407.437613   \n",
       "3  0.002448             1655.289045          111952.284517   \n",
       "4  0.001701             1630.656199           79667.267654   \n",
       "\n",
       "   spectral_bandwidth_mean  spectral_bandwidth_var  ...  mfcc16_var  \\\n",
       "0              1972.744388           117335.771563  ...   39.687145   \n",
       "1              2010.051501            65671.875673  ...   64.748276   \n",
       "2              2084.565132            75124.921716  ...   67.336563   \n",
       "3              1960.039988            82913.639269  ...   47.739452   \n",
       "4              1948.503884            60204.020268  ...   30.336359   \n",
       "\n",
       "   mfcc17_mean  mfcc17_var  mfcc18_mean  mfcc18_var  mfcc19_mean  mfcc19_var  \\\n",
       "0    -3.241280   36.488243     0.722209   38.099152    -5.050335   33.618073   \n",
       "1    -6.055294   40.677654     0.159015   51.264091    -2.837699   97.030830   \n",
       "2    -1.768610   28.348579     2.378768   45.717648    -1.938424   53.050835   \n",
       "3    -3.841155   28.337118     1.218588   34.770935    -3.580352   50.836224   \n",
       "4     0.664582   45.880913     1.689446   51.363583    -3.392489   26.738789   \n",
       "\n",
       "   mfcc20_mean  mfcc20_var  label  \n",
       "0    -0.243027   43.771767  blues  \n",
       "1     5.784063   59.943081  blues  \n",
       "2     2.517375   33.105122  blues  \n",
       "3     3.630866   32.023678  blues  \n",
       "4     0.536961   29.146694  blues  \n",
       "\n",
       "[5 rows x 60 columns]"
      ]
     },
     "execution_count": 397,
     "metadata": {},
     "output_type": "execute_result"
    }
   ],
   "source": [
    "#creating dataframe from dataset\n",
    "df = pd.read_csv('features_3_sec.csv')\n",
    "df.head()"
   ]
  },
  {
   "cell_type": "code",
   "execution_count": 398,
   "id": "1d607ee8",
   "metadata": {},
   "outputs": [
    {
     "name": "stdout",
     "output_type": "stream",
     "text": [
      "(2007, 57) (2007, 10)\n"
     ]
    }
   ],
   "source": [
    "df = df.drop(['filename','length'], axis=1)\n",
    "ynonhot = df[\"label\"]\n",
    "\n",
    "# generate all the unique genres and map them to an index \n",
    "enc = OneHotEncoder(sparse=False)\n",
    "y = enc.fit_transform(df[[\"label\"]])\n",
    "y\n",
    "\n",
    "minmaxscalar = preprocessing.MinMaxScaler()\n",
    "df.loc[:, df.columns != 'label'] = minmaxscalar.fit_transform(df.loc[:, df.columns != 'label'])\n",
    "\n",
    "df.head()\n",
    "x,y = (df.iloc[:,df.columns != \"label\"],y)\n",
    "X_train, X_test, y_train, y_test = train_test_split(x, y,test_size=0.30)\n",
    "X_train.shape\n",
    "\n",
    "# Further split data into validation sets \n",
    "X_test, X_valid, y_test, y_valid = train_test_split(X_test, y_test,test_size=0.33)\n",
    "print(X_test.shape,y_test.shape)"
   ]
  },
  {
   "cell_type": "markdown",
   "id": "acfca3f9",
   "metadata": {},
   "source": [
    "# Model Evaluation"
   ]
  },
  {
   "cell_type": "markdown",
   "id": "411e3b97",
   "metadata": {},
   "source": [
    "Initliazed baseline model with K = 11 (11 neighbours). \n",
    "Evaluate model with accuracy, error, precision, recall, f1 scores, and a confusion matrix. \n",
    "Accuracy and error scores were applied on all 3 datasets to determine bias vs variance (whether the model is overfitting or underfitting). "
   ]
  },
  {
   "cell_type": "code",
   "execution_count": 399,
   "id": "c66f6f6b",
   "metadata": {
    "scrolled": false
   },
   "outputs": [
    {
     "name": "stdout",
     "output_type": "stream",
     "text": [
      "valid score:  0.7575757575757576\n",
      "train score:  0.821964821964822\n",
      "test score:  0.7648231190832088\n"
     ]
    }
   ],
   "source": [
    "#Create KNN Classifier (baseline)\n",
    "knn = KNeighborsClassifier(n_neighbors=11)\n",
    "\n",
    "#Train the model using the training sets\n",
    "#knn.fit(nca.transform(X_train), y_train)\n",
    "knn.fit(X_train, y_train)\n",
    "#Predict the response for the 3 datasets\n",
    "acc_knn_valid = knn.score(X_valid, y_valid)\n",
    "acc_knn_train = knn.score(X_train, y_train)\n",
    "acc_knn_test = knn.score(X_test, y_test)\n",
    "\n",
    "\n",
    "print('valid score: ',acc_knn_valid)\n",
    "print('train score: ',acc_knn_train)\n",
    "print('test score: ',acc_knn_test)"
   ]
  },
  {
   "cell_type": "code",
   "execution_count": 400,
   "id": "73296563",
   "metadata": {},
   "outputs": [],
   "source": [
    "acc = []\n",
    "\n",
    "# Calculating acc for K values between 1 and 57\n",
    "for k in range(1,58):\n",
    "    #Create KNN Classifier\n",
    "    knn = KNeighborsClassifier(n_neighbors=k)\n",
    "    #Train the model using the training sets\n",
    "    knn.fit(X_train, y_train)\n",
    "    #Predict the response for test dataset\n",
    "    y_pred = knn.predict(X_test)\n",
    "    acc.append(accuracy_score(y_test, y_pred))"
   ]
  },
  {
   "cell_type": "code",
   "execution_count": 401,
   "id": "9983f9b5",
   "metadata": {
    "scrolled": true
   },
   "outputs": [
    {
     "data": {
      "text/plain": [
       "Text(0, 0.5, 'Accuracy')"
      ]
     },
     "execution_count": 401,
     "metadata": {},
     "output_type": "execute_result"
    },
    {
     "data": {
      "image/png": "[encoded data removed]",
      "text/plain": [
       "<Figure size 864x432 with 1 Axes>"
      ]
     },
     "metadata": {
      "needs_background": "light"
     },
     "output_type": "display_data"
    }
   ],
   "source": [
    "plt.figure(figsize=(12, 6))\n",
    "plt.plot(range(1, 58), acc, color='red', linestyle='dashed', marker='o',\n",
    "         markerfacecolor='blue', markersize=10)\n",
    "plt.title('Accuracy Rate K Value')\n",
    "plt.xlabel('K Value')\n",
    "plt.ylabel('Accuracy')"
   ]
  },
  {
   "cell_type": "code",
   "execution_count": 417,
   "id": "b4a8ed48",
   "metadata": {},
   "outputs": [
    {
     "name": "stdout",
     "output_type": "stream",
     "text": [
      "Test Error:  0.030991529646238167\n",
      "Train Error:  0.060787244643746886\n",
      "Valid Error:  0.060787244643746886\n"
     ]
    }
   ],
   "source": [
    "#Create KNN Classifier (baseline)\n",
    "knn = KNeighborsClassifier(n_neighbors=11)\n",
    "\n",
    "#Train the model using the training sets\n",
    "#knn.fit(nca.transform(X_train), y_train)\n",
    "knn.fit(X_train, y_train)\n",
    "#Predict the response for the 3 datasets\n",
    "test_err = knn.predict(X_test)\n",
    "print('Test Error: ',(np.mean(test_err != y_test)))\n",
    "\n",
    "train_err = knn.predict(X_train)\n",
    "print('Train Error: ',(np.mean(pred_i != y_test)))\n",
    "\n",
    "valid_err = knn.predict(X_valid)\n",
    "print('Valid Error: ',(np.mean(pred_i != y_test)))"
   ]
  },
  {
   "cell_type": "code",
   "execution_count": 402,
   "id": "3e540473",
   "metadata": {},
   "outputs": [],
   "source": [
    "error = []\n",
    "\n",
    "# Calculating error for K values between 1 and 40\n",
    "for i in range(1, 58):\n",
    "    knn = KNeighborsClassifier(n_neighbors=i)\n",
    "    knn.fit(X_train, y_train)\n",
    "    pred_i = knn.predict(X_test)\n",
    "    error.append(np.mean(pred_i != y_test))"
   ]
  },
  {
   "cell_type": "code",
   "execution_count": 403,
   "id": "b18cbe8e",
   "metadata": {},
   "outputs": [
    {
     "data": {
      "text/plain": [
       "Text(0, 0.5, 'Mean Error')"
      ]
     },
     "execution_count": 403,
     "metadata": {},
     "output_type": "execute_result"
    },
    {
     "data": {
      "image/png": "[encoded data removed]",
      "text/plain": [
       "<Figure size 864x432 with 1 Axes>"
      ]
     },
     "metadata": {
      "needs_background": "light"
     },
     "output_type": "display_data"
    }
   ],
   "source": [
    "plt.figure(figsize=(12, 6))\n",
    "plt.plot(range(1, 58), error, color='red', linestyle='dashed', marker='o',\n",
    "         markerfacecolor='blue', markersize=10)\n",
    "plt.title('Error Rate K Value')\n",
    "plt.xlabel('K Value')\n",
    "plt.ylabel('Mean Error')"
   ]
  },
  {
   "cell_type": "code",
   "execution_count": 415,
   "id": "35804249",
   "metadata": {},
   "outputs": [
    {
     "name": "stdout",
     "output_type": "stream",
     "text": [
      "Precsion: [0.94974874 0.94923858 0.88205128 0.92890995 0.96335079 0.91150442\n",
      " 0.97382199 0.96907216 0.921875   0.89099526]\n",
      "Recall: [0.94029851 0.95897436 0.86868687 0.96078431 0.92929293 0.91964286\n",
      " 0.97894737 0.92610837 0.95675676 0.89952153]\n",
      "F1 Score: [0.945      0.95408163 0.87531807 0.94457831 0.94601542 0.91555556\n",
      " 0.97637795 0.94710327 0.93899204 0.8952381 ]\n"
     ]
    }
   ],
   "source": [
    "#precision, recall, and f1 scores for y_test and y_pred\n",
    "from sklearn.metrics import precision_score,recall_score, f1_score\n",
    "\n",
    "precision = precision_score(y_test, y_pred, average=None)\n",
    "recall_score = recall_score(y_test, y_pred, average=None)\n",
    "f1 = f1_score(y_test, y_pred, average=None)\n",
    "print('Precsion:',precision)\n",
    "print('Recall:', recall_score)\n",
    "print('F1 Score:', f1)"
   ]
  },
  {
   "cell_type": "code",
   "execution_count": 405,
   "id": "de189f64",
   "metadata": {},
   "outputs": [],
   "source": [
    "from sklearn.metrics import confusion_matrix\n",
    "import numpy as np\n",
    "import itertools\n",
    "import matplotlib.pyplot as plt\n",
    "\n",
    "\n",
    "def plot_confusion_matrix(cm, classes,\n",
    "                          normalize=False,\n",
    "                          title='Confusion matrix',\n",
    "                          cmap=plt.cm.Blues):\n",
    "    \"\"\"\n",
    "    This function prints and plots the confusion matrix.\n",
    "    Normalization can be applied by setting `normalize=True`.\n",
    "    \"\"\"\n",
    "    plt.imshow(cm, interpolation='nearest', cmap=cmap)\n",
    "    plt.title(title)\n",
    "    plt.colorbar()\n",
    "    tick_marks = np.arange(len(classes))\n",
    "    plt.xticks(tick_marks, classes, rotation=45)\n",
    "    plt.yticks(tick_marks, classes)\n",
    "\n",
    "    if normalize:\n",
    "        cm = cm.astype('float') / cm.sum(axis=1)[:, np.newaxis]\n",
    "        print(\"Normalized confusion matrix\")\n",
    "    else:\n",
    "        print('Confusion matrix, without normalization')\n",
    "\n",
    "    print(cm)\n",
    "\n",
    "    thresh = cm.max() / 2.\n",
    "    for i, j in itertools.product(range(cm.shape[0]), range(cm.shape[1])):\n",
    "        plt.text(j, i, cm[i, j],\n",
    "                 horizontalalignment=\"center\",\n",
    "                 color=\"white\" if cm[i, j] > thresh else \"black\")\n",
    "\n",
    "    plt.tight_layout()\n",
    "    plt.ylabel('True label')\n",
    "    plt.xlabel('Predicted label')\n",
    "    plt.savefig(\"confusionmatrix.pdf\")"
   ]
  },
  {
   "cell_type": "code",
   "execution_count": 406,
   "id": "d9613e99",
   "metadata": {},
   "outputs": [
    {
     "name": "stdout",
     "output_type": "stream",
     "text": [
      "Confusion matrix, without normalization\n",
      "[[184   2   2   0   0   6   1   0   6   0]\n",
      " [ 23 170   0   0   0   2   0   0   0   0]\n",
      " [134   2  56   0   0   0   0   0   2   4]\n",
      " [114   2   0  83   0   0   1   0   1   3]\n",
      " [109   0   1   1  59   0   4  12  11   1]\n",
      " [105  21   0   1   0  97   0   0   0   0]\n",
      " [ 45   0   0   2   0   0 137   0   0   6]\n",
      " [ 68   1   0   3   0   0   0 130   1   0]\n",
      " [ 95   0   0   3   5   1   0   3  78   0]\n",
      " [149   0   3  10   0   2   3   0   4  38]]\n"
     ]
    },
    {
     "data": {
      "image/png": "[encoded data removed]",
      "text/plain": [
       "<Figure size 432x288 with 2 Axes>"
      ]
     },
     "metadata": {
      "needs_background": "light"
     },
     "output_type": "display_data"
    }
   ],
   "source": [
    "from sklearn.metrics import confusion_matrix\n",
    "import itertools\n",
    "import matplotlib.pyplot\n",
    "preds = np.argmax(y_pred,axis=1)\n",
    "label = np.argmax(y_test,axis=1)\n",
    "cm = confusion_matrix(label,preds)\n",
    "test_label = df[\"label\"].unique()\n",
    "label = list(test_label)\n",
    "plot_confusion_matrix(cm, label,title='Confusion matrix')"
   ]
  },
  {
   "cell_type": "markdown",
   "id": "473e4f55",
   "metadata": {},
   "source": [
    "# Hyperparameter Finetuning"
   ]
  },
  {
   "cell_type": "markdown",
   "id": "5db8c97d",
   "metadata": {},
   "source": [
    "The baseline model did not perform well in evaluation, as the model is overfitting due to its high variance. \n",
    "The grid search function was used to determine the best metric, K value, and weights that resulted in the highest accuracy of the model."
   ]
  },
  {
   "cell_type": "code",
   "execution_count": 407,
   "id": "6bec77b3",
   "metadata": {},
   "outputs": [
    {
     "name": "stdout",
     "output_type": "stream",
     "text": [
      "Fitting 3 folds for each of 32 candidates, totalling 96 fits\n"
     ]
    }
   ],
   "source": [
    "from sklearn.model_selection import GridSearchCV\n",
    "grid_params = {\n",
    "    'n_neighbors':list(range(2,10)),\n",
    "    'weights' :['uniform','distance'],\n",
    "    'metric' :['euclidean','manhattan']\n",
    "}\n",
    "gs = GridSearchCV(KNeighborsClassifier(),grid_params,verbose =1, cv =3,n_jobs =-1)\n",
    "gs_results = gs.fit(X_train,y_train)"
   ]
  },
  {
   "cell_type": "code",
   "execution_count": 408,
   "id": "2e10682c",
   "metadata": {},
   "outputs": [
    {
     "data": {
      "text/plain": [
       "{'metric': 'manhattan', 'n_neighbors': 2, 'weights': 'distance'}"
      ]
     },
     "execution_count": 408,
     "metadata": {},
     "output_type": "execute_result"
    }
   ],
   "source": [
    "gs_results.best_score_\n",
    "gs_results.best_estimator_\n",
    "gs_results.best_params_"
   ]
  },
  {
   "cell_type": "markdown",
   "id": "ab1a39ff",
   "metadata": {},
   "source": [
    "# Final Model"
   ]
  },
  {
   "cell_type": "markdown",
   "id": "d6c13f73",
   "metadata": {},
   "source": [
    "After applying the new paramters to the model, the accuracy greatly improved from 76% to 93%. "
   ]
  },
  {
   "cell_type": "code",
   "execution_count": 409,
   "id": "afae85d5",
   "metadata": {},
   "outputs": [
    {
     "name": "stdout",
     "output_type": "stream",
     "text": [
      "valid score:  0.908080808080808\n",
      "train score:  0.9988559988559989\n",
      "test score:  0.9332336821126059\n"
     ]
    }
   ],
   "source": [
    "#k = 2\n",
    "#Create KNN Classifier\n",
    "knn = KNeighborsClassifier(n_neighbors=2,weights = 'distance',\n",
    "                          metric='manhattan')\n",
    "\n",
    "\n",
    "knn.fit(X_train, y_train)\n",
    "\n",
    "#Predict the response for the 3 datasets\n",
    "acc_knn_valid = knn.score(X_valid, y_valid)\n",
    "acc_knn_train = knn.score(X_train, y_train)\n",
    "acc_knn_test = knn.score(X_test, y_test)\n",
    "\n",
    "\n",
    "print('valid score: ',acc_knn_valid)\n",
    "print('train score: ',acc_knn_train)\n",
    "print('test score: ',acc_knn_test)"
   ]
  },
  {
   "cell_type": "code",
   "execution_count": 419,
   "id": "a42b0c5d",
   "metadata": {},
   "outputs": [
    {
     "name": "stdout",
     "output_type": "stream",
     "text": [
      "Test Error:  0.013353263577478824\n",
      "Train Error:  0.060787244643746886\n",
      "Valid Error:  0.060787244643746886\n"
     ]
    }
   ],
   "source": [
    "#Create KNN Classifier (baseline)\n",
    "knn = KNeighborsClassifier(n_neighbors=2,weights = 'distance',\n",
    "                          metric='manhattan')\n",
    "\n",
    "#Train the model using the training sets\n",
    "#knn.fit(nca.transform(X_train), y_train)\n",
    "knn.fit(X_train, y_train)\n",
    "#Predict the response for the 3 datasets\n",
    "test_err = knn.predict(X_test)\n",
    "print('Test Error: ',(np.mean(test_err != y_test)))\n",
    "\n",
    "train_err = knn.predict(X_train)\n",
    "print('Train Error: ',(np.mean(pred_i != y_test)))\n",
    "\n",
    "valid_err = knn.predict(X_valid)\n",
    "print('Valid Error: ',(np.mean(pred_i != y_test)))"
   ]
  },
  {
   "cell_type": "code",
   "execution_count": 412,
   "id": "66ac6dc3",
   "metadata": {
    "scrolled": false
   },
   "outputs": [
    {
     "name": "stdout",
     "output_type": "stream",
     "text": [
      "Confusion matrix, without normalization\n",
      "[[189   0   4   0   1   0   0   0   4   3]\n",
      " [  1 187   0   0   0   7   0   0   0   0]\n",
      " [  4   1 172   1   2   9   0   0   3   6]\n",
      " [  0   0   2 196   0   0   1   1   0   4]\n",
      " [  0   0   1   2 184   1   1   3   2   4]\n",
      " [  2   9   6   0   0 206   0   0   1   0]\n",
      " [  0   0   1   0   0   0 186   0   0   3]\n",
      " [  0   0   3   4   2   0   0 188   3   3]\n",
      " [  0   0   4   1   1   1   0   1 177   0]\n",
      " [  3   0   2   7   1   2   3   1   2 188]]\n"
     ]
    },
    {
     "data": {
      "image/png": "[encoded data removed]",
      "text/plain": [
       "<Figure size 432x288 with 2 Axes>"
      ]
     },
     "metadata": {
      "needs_background": "light"
     },
     "output_type": "display_data"
    }
   ],
   "source": [
    "from sklearn.metrics import confusion_matrix\n",
    "import itertools\n",
    "import matplotlib.pyplot\n",
    "y_pred = knn.predict(X_test)\n",
    "preds = np.argmax(y_pred,axis=1)\n",
    "label = np.argmax(y_test,axis=1)\n",
    "cm = confusion_matrix(label,preds)\n",
    "test_label = df[\"label\"].unique()\n",
    "label = list(test_label)\n",
    "plot_confusion_matrix(cm, label,title='Confusion matrix')\n",
    "#hashtage identity matrix uwu"
   ]
  }
 ],
 "metadata": {
  "kernelspec": {
   "display_name": "Python 3",
   "language": "python",
   "name": "python3"
  },
  "language_info": {
   "codemirror_mode": {
    "name": "ipython",
    "version": 3
   },
   "file_extension": ".py",
   "mimetype": "text/x-python",
   "name": "python",
   "nbconvert_exporter": "python",
   "pygments_lexer": "ipython3",
   "version": "3.8.8"
  }
 },
 "nbformat": 4,
 "nbformat_minor": 5
}
